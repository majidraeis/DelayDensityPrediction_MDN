{
 "cells": [
  {
   "cell_type": "code",
   "execution_count": 3,
   "metadata": {},
   "outputs": [],
   "source": [
    "from __future__ import absolute_import, division, print_function\n",
    "import matplotlib\n",
    "from keras.models import Sequential, model_from_json\n",
    "from sklearn.metrics import mean_squared_error\n",
    "import os\n",
    "import argparse\n",
    "import csv\n",
    "from CondDelayDist_funs import *\n",
    "from extractDataset_SingleQ_LES import rho, N, c_a, TotHistLength\n",
    "from keras.wrappers.scikit_learn import KerasClassifier, KerasRegressor\n",
    "from eli5.permutation_importance import get_score_importances"
   ]
  },
  {
   "cell_type": "code",
   "execution_count": 4,
   "metadata": {},
   "outputs": [],
   "source": [
    "def plot_history(history):\n",
    "        fig = plt.figure()\n",
    "        plt.xlabel('Epoch')\n",
    "        plt.ylabel('Error')\n",
    "        plt.plot(history.epoch, np.array(history.history['loss']),\n",
    "                 label='Train Loss')\n",
    "        plt.plot(history.epoch, np.array(history.history['val_loss']),\n",
    "                 label='Val loss')\n",
    "        plt.legend()\n",
    "        fig_path = fig_directory + '/trainValError %s_%s_%d (rho %3.2f).pdf' % (ArrivalType, ServiceType, N, rho)\n",
    "        fig.savefig(fig_path, bbox_inches='tight')\n",
    "\n",
    "\n",
    "# Model\n",
    "def build_model(learning_rate):\n",
    "    model = Sequential([\n",
    "        Dense(64, activation=tf.nn.relu, input_shape=(train_data.shape[1],)),\n",
    "        # Dense(64, activation=tf.nn.relu),\n",
    "        Dense(32, activation=tf.nn.relu),\n",
    "        Dense(1, activation=tf.nn.relu),\n",
    "    ])\n",
    "    print(model.summary())\n",
    "    optimizer = tf.train.RMSPropOptimizer(learning_rate)\n",
    "    model.compile(loss='mse',\n",
    "                  optimizer=optimizer)\n",
    "    # metrics=['mean_absolute_error']) keras.optimizers.Adam()\n",
    "    return model\n",
    "\n",
    "def score(X, y):\n",
    "    y_pred = model.predict(X)\n",
    "    return -mean_squared_error(y_pred, y)\n",
    "\n",
    "class PrintDot(Callback):\n",
    "  def on_epoch_end(self, epoch, logs):\n",
    "    if epoch % 100 == 0: print('')\n",
    "    print('.', end='')\n"
   ]
  },
  {
   "cell_type": "markdown",
   "metadata": {},
   "source": [
    "# Initialization"
   ]
  },
  {
   "cell_type": "code",
   "execution_count": 5,
   "metadata": {},
   "outputs": [],
   "source": [
    "learning = 1  # set to one(zero) for learning (prediction)\n",
    "learning_rate_range = 10.0 ** -np.arange(4,  4.5, 0.5)\n",
    "\n",
    "# ArrivalType = arguments.ArrivalType  # Passenger or 'M' or 'H2'\n",
    "ArrivalType = 'NonHomPoisson'\n",
    "# ServiceType = arguments.ServiceType  # M or logNorm\n",
    "ServiceType = 'logNorm'\n",
    "# future_step = arguments.future_step\n",
    "future_step = 1\n",
    "delayHistLength = 1\n",
    "feature_num = 1\n",
    "mean_Ts = 1.0\n",
    "mean_Ta = mean_Ts / (N * rho)\n",
    "output_dim = 1\n",
    "batch_size = 512\n",
    "Epochs = 300\n",
    "plot_flag = 1\n",
    "matlab_mode = (learning == 0)\n",
    "data_gen = 'queue'\n",
    "\n",
    "if matlab_mode == 1:\n",
    "    import matlab.engine\n",
    "    eng = matlab.engine.start_matlab()\n",
    "\n",
    "directory = 'Queueing_FeedForward_pred/%s_%s/stepsAhead %d' % (ArrivalType, ServiceType, future_step)\n",
    "data_directory = 'Queueing_models_RNN_MDN/%s_%s' % (ArrivalType, ServiceType)\n",
    "if not os.path.exists(directory):\n",
    "    os.makedirs(directory)\n"
   ]
  },
  {
   "cell_type": "markdown",
   "metadata": {},
   "source": [
    "# Dataset preperation"
   ]
  },
  {
   "cell_type": "code",
   "execution_count": 6,
   "metadata": {},
   "outputs": [],
   "source": [
    "# \\\\\\\\\\\\\\\\\\\\\\\\\\\\\\\\\\\\\\\\\\\\\\\\\\\\\\\\\\\\\\\\\\\\\\\\\\\\\\\\\\\\\\\\\\\\\\\\\\\\\\\\\\\\\\\\\\\\\\\\\\\\\\\\\\\\\\\\\\\\\\\\\\\\\\\\\\\\\\\\\\\\\\\\\\\\\\\\\\\\\n",
    "if data_gen == 'dist' and ArrivalType == 'M':\n",
    "    if learning:\n",
    "        w = np.random.uniform(0.0, 10.0, 250)\n",
    "        dataSet = data_gen_dist_based(w, N, mean_Ta, mean_Ts)\n",
    "        w = np.random.uniform(0.0, 10.0, 30)\n",
    "        testdata = data_gen_dist_based(w, N, mean_Ta, mean_Ts)\n",
    "        with open(directory + '/dataset/DelayPredTrainingdata_distGen.csv', 'w') as csvFile:\n",
    "            writer = csv.writer(csvFile)\n",
    "            writer.writerows(dataSet)\n",
    "\n",
    "        csvFile.close()\n",
    "        with open(directory + '/dataset/DelayPredTestdata_distGen.csv', 'w') as csvFile:\n",
    "            writer = csv.writer(csvFile)\n",
    "            writer.writerows(testdata)\n",
    "        csvFile.close()\n",
    "    else:\n",
    "        dataSet = np.genfromtxt(directory + '/dataset/DelayPredTrainingdata_distGen.csv', delimiter=',')\n",
    "        testdata = np.genfromtxt(directory + '/dataset/DelayPredTestdata_distGen.csv', delimiter=',')\n",
    "\n",
    "\n",
    "elif data_gen == 'queue':\n",
    "    dataSet = np.genfromtxt(data_directory+'/dataset/DelayPredTrainingdata.csv', delimiter=',')  # without QLs\n",
    "    Ta_train = dataSet[:, 0]\n",
    "    dataSet = dataSet[:, -(feature_num * TotHistLength+1):]\n",
    "    # preparing data for learning pairs of (delay, arrival time)\n",
    "    temp = np.zeros((dataSet.shape[0], feature_num * TotHistLength))\n",
    "    for k in range(feature_num):\n",
    "        temp[:, range(k, feature_num * TotHistLength, feature_num)] = dataSet[:, k*TotHistLength:TotHistLength*(k+1)]\n",
    "\n",
    "    # temp[:, range(0, feature_num * TotHistLength, feature_num)] = dataSet[:, -(feature_num * TotHistLength+1):-(TotHistLength+1)]\n",
    "    # temp[:, range(1, feature_num * TotHistLength, feature_num)] = dataSet[:, -(TotHistLength+1):-1]  # delays\n",
    "\n",
    "    dataSet[:, -(feature_num * TotHistLength+1):-1] = temp\n",
    "    # picking a history of length #delayHistLength customers with #future_step ahead\n",
    "    # dataSet = np.hstack((Ta_train.reshape(-1, 1), dataSet[:, -feature_num * delayHistLength - ((future_step-1) * feature_num + 1): - ((future_step-1) * feature_num + 1)], dataSet[:, -1].reshape(-1, 1)))\n",
    "    dataSet = np.hstack((dataSet[:, -feature_num * delayHistLength - ((future_step-1) * feature_num + 1): - ((future_step-1) * feature_num + 1)], dataSet[:, -1].reshape(-1, 1)))\n",
    "\n",
    "    testdata = np.genfromtxt(data_directory+'/dataset/DelayPredTestdata.csv', delimiter=',')  # with arrival times\n",
    "    Ta_test = testdata[:, 0]  # arrival times\n",
    "    testdata = testdata[:, -(feature_num * TotHistLength+1):]\n",
    "    # preparing data for learning pairs of (delay, arrival time)\n",
    "    temp = np.zeros((testdata.shape[0], feature_num * TotHistLength))\n",
    "    for k in range(feature_num):\n",
    "        temp[:, range(k, feature_num * TotHistLength, feature_num)] = testdata[:, k*TotHistLength:TotHistLength*(k+1)]\n",
    "    # temp[:, range(0, feature_num * TotHistLength, feature_num)] = testdata[:, -(feature_num * TotHistLength+1):-(TotHistLength+1)]\n",
    "    # temp[:, range(1, feature_num * TotHistLength, feature_num)] = testdata[:, -(TotHistLength+1):-1]\n",
    "    testdata[:, -(feature_num * TotHistLength+1):-1] = temp\n",
    "    # preparing for predicting #future_step ahead predictions\n",
    "    # testdata = np.hstack((Ta_test.reshape(-1, 1), testdata[:, -feature_num * delayHistLength - ((future_step-1) * feature_num + 1): - ((future_step-1) * feature_num + 1)], testdata[:, -1].reshape(-1, 1)))\n",
    "    testdata = np.hstack((testdata[:, -feature_num * delayHistLength - ((future_step-1) * feature_num + 1): - ((future_step-1) * feature_num + 1)], testdata[:, -1].reshape(-1, 1)))\n",
    "\n",
    "    samplePath = np.genfromtxt(data_directory+'/dataset/samplePath.csv', delimiter=',')\n",
    "    # preparing data for learning pairs of (delay, arrival time)\n",
    "    Ta_samp = samplePath[:, 0]\n",
    "    temp0 = samplePath[:, -(feature_num * TotHistLength+1):-1]\n",
    "    temp = np.zeros_like(temp0)\n",
    "    for k in range(feature_num):\n",
    "        temp[:, range(k, feature_num * TotHistLength, feature_num)] = temp0[:, k*TotHistLength:TotHistLength*(k+1)]\n",
    "    # temp[:, range(0, feature_num * TotHistLength, feature_num)] = temp0[:, :TotHistLength]\n",
    "    # temp[:, range(1, feature_num * TotHistLength, feature_num)] = temp0[:, TotHistLength:]\n",
    "    samplePath[:, -(feature_num * TotHistLength+1):-1] = temp\n",
    "    # preparing for predicting #future_step ahead predictions\n",
    "    # samplePath = np.hstack((Ta_samp.reshape(-1, 1), samplePath[:, -feature_num * delayHistLength - ((future_step-1) * feature_num + 1): - ((future_step-1) * feature_num + 1)]\n",
    "    #                         , samplePath[:, -1].reshape(-1, 1)))\n",
    "    samplePath = np.hstack((samplePath[:, -feature_num * delayHistLength - ((future_step-1) * feature_num + 1): - ((future_step-1) * feature_num + 1)]\n",
    "                            , samplePath[:, -1].reshape(-1, 1)))\n"
   ]
  },
  {
   "cell_type": "markdown",
   "metadata": {},
   "source": [
    "# Learning and/or Prediction"
   ]
  },
  {
   "cell_type": "code",
   "execution_count": 7,
   "metadata": {},
   "outputs": [
    {
     "name": "stdout",
     "output_type": "stream",
     "text": [
      "_________________________________________________________________\n",
      "Layer (type)                 Output Shape              Param #   \n",
      "=================================================================\n",
      "dense_1 (Dense)              (None, 64)                128       \n",
      "_________________________________________________________________\n",
      "dense_2 (Dense)              (None, 32)                2080      \n",
      "_________________________________________________________________\n",
      "dense_3 (Dense)              (None, 1)                 33        \n",
      "=================================================================\n",
      "Total params: 2,241\n",
      "Trainable params: 2,241\n",
      "Non-trainable params: 0\n",
      "_________________________________________________________________\n",
      "None\n",
      "\n",
      "....................................................................................................\n",
      "....................................................................................................\n",
      "....................................................................................................Saved model to disk\n"
     ]
    },
    {
     "data": {
      "image/png": "[encoded data removed]",
      "text/plain": [
       "<Figure size 432x288 with 1 Axes>"
      ]
     },
     "metadata": {
      "needs_background": "light"
     },
     "output_type": "display_data"
    }
   ],
   "source": [
    "wLES_ind = - ((future_step-1) * feature_num+2)\n",
    "# Shuffle the Dataset set\n",
    "totSamples = np.shape(dataSet)[0]\n",
    "order = np.argsort(np.random.random(totSamples))\n",
    "dataSet = dataSet[order]\n",
    "\n",
    "train_data = dataSet[:, :-1]\n",
    "train_labels = dataSet[:, -1]\n",
    "test_data = testdata[:, :-1]\n",
    "test_labels = testdata[:, -1]\n",
    "\n",
    "# Normalizing Features\n",
    "mean = train_data.mean(axis=0)\n",
    "std = train_data.std(axis=0)\n",
    "train_data = (train_data - mean) / std\n",
    "test_data = (test_data - mean) / std\n",
    "samplePath_inp = (samplePath[:, :-1] - mean) / std\n",
    "k = 0\n",
    "train_err = []\n",
    "val_err = []\n",
    "for learning_rate in learning_rate_range:\n",
    "    fig_directory = directory + '/figs'\n",
    "    model_directory = directory + '/model'\n",
    "    if not os.path.exists(fig_directory):\n",
    "        os.makedirs(fig_directory)\n",
    "    if not os.path.exists(model_directory):\n",
    "        os.makedirs(model_directory)\n",
    "\n",
    "    if learning:\n",
    "        model = build_model(learning_rate)\n",
    "        # Training\n",
    "        # The patience parameter is the amount of epochs to check for improvement\n",
    "        early_stop = EarlyStopping(monitor='val_loss', patience=10)\n",
    "        # Store training stats\n",
    "        history = model.fit(train_data, train_labels, epochs=Epochs,\n",
    "                            batch_size=batch_size, validation_split=0.1, verbose=0, callbacks=[PrintDot()])\n",
    "\n",
    "        # serialize model to JSON\n",
    "\n",
    "        model_json = model.to_json()\n",
    "        name = \"/model %s_%s_%d (rho %3.2f).json\" % (ArrivalType, ServiceType, N, rho)\n",
    "        with open(model_directory + name, \"w\") as json_file:\n",
    "            json_file.write(model_json)\n",
    "        # serialize weights to HDF5\n",
    "        name = \"/weights %s_%s_%d (rho %3.2f).h5\" % (ArrivalType, ServiceType, N, rho)\n",
    "        model.save_weights(model_directory + name)\n",
    "        print(\"Saved model to disk\")\n",
    "        train_err = np.append(train_err, np.array(history.history['loss'])[-1])\n",
    "        val_err = np.append(val_err, np.array(history.history['val_loss'])[-1])\n",
    "        plot_history(history)\n",
    "    else:\n",
    "        # load json and create model\n",
    "        name = \"/model %s_%s_%d (rho %3.2f).json\" % (ArrivalType, ServiceType, N, rho)\n",
    "        json_file = open(model_directory + name, 'r')\n",
    "        loaded_model_json = json_file.read()\n",
    "        json_file.close()\n",
    "        model = model_from_json(loaded_model_json)\n",
    "        # load weights into new model\n",
    "        name = \"/weights %s_%s_%d (rho %3.2f).h5\" % (ArrivalType, ServiceType, N, rho)\n",
    "        model.load_weights(model_directory + name)\n",
    "        print(\"Loaded model from disk\")\n",
    "        # evaluate loaded model on test data\n",
    "        model.compile(loss='mse',\n",
    "                      optimizer=keras.optimizers.Adam(),\n",
    "                      metrics=['mae'])\n"
   ]
  },
  {
   "cell_type": "markdown",
   "metadata": {},
   "source": [
    "# Plotting Groundtruth vs Predictions"
   ]
  },
  {
   "cell_type": "code",
   "execution_count": 11,
   "metadata": {},
   "outputs": [
    {
     "data": {
      "image/png": "[encoded data removed]",
      "text/plain": [
       "<Figure size 432x288 with 1 Axes>"
      ]
     },
     "metadata": {
      "needs_background": "light"
     },
     "output_type": "display_data"
    },
    {
     "data": {
      "image/png": "[encoded data removed]",
      "text/plain": [
       "<Figure size 432x288 with 1 Axes>"
      ]
     },
     "metadata": {
      "needs_background": "light"
     },
     "output_type": "display_data"
    },
    {
     "name": "stdout",
     "output_type": "stream",
     "text": [
      "MSE_LES: 34.4857, MSE_RNN: 24.1655\n"
     ]
    }
   ],
   "source": [
    "# ///////////////////////////////Sampling from test_data for plotting//////////////////////\n",
    "train_len = np.shape(train_data)[0]\n",
    "test_len = np.shape(test_data)[0]\n",
    "sampled_data = np.zeros((1, testdata.shape[1]))\n",
    "nbins = 10\n",
    "sampleNum = 100\n",
    "num_per_bin = int(sampleNum / nbins)\n",
    "bins = np.linspace(0, max(testdata[:, wLES_ind]), nbins + 1)\n",
    "for i in range(1, nbins + 1):\n",
    "    temp = np.arange(testdata.shape[0])[np.digitize(testdata[:, wLES_ind], bins) == i]\n",
    "    if len(temp) > 0:\n",
    "        choose = np.random.choice(temp, min(num_per_bin, len(temp)), replace=False)\n",
    "        sampled_data = np.append(sampled_data, testdata[choose, :], axis=0)\n",
    "plot_data = sampled_data[1:, :]\n",
    "plot_data_norm = (plot_data[:, :-1] - mean) / std\n",
    "sample_len = plot_data.shape[0]\n",
    "# ///////////////////////////////////////////////////////////////////////////////////\n",
    "test_pred = model.predict(plot_data_norm)\n",
    "\n",
    "index_sorted_data = np.argsort(plot_data[:, wLES_ind])\n",
    "sorted_data = plot_data[:, wLES_ind][index_sorted_data]\n",
    "sorted_label = plot_data[index_sorted_data, -1]\n",
    "\n",
    "nbins = 30\n",
    "\n",
    "z_sim, x_sim, y_sim = np.histogram2d(dataSet[:, -1].flatten(), dataSet[:, wLES_ind].flatten(), nbins, normed='True')\n",
    "# \\\\\\\\\\\\\\\\\\\\\\\\\\\\Normalization for getting the conditional distribution\\\\\\\\\\\\\\\\\\\n",
    "eps = 10**-15\n",
    "z_sim = z_sim/(np.sum(z_sim, axis=0, keepdims=True)+eps)\n",
    "# \\\\\\\\\\\\calculating centers of the bins\\\\\\\\\\\\\n",
    "x_sim = (x_sim[:-1]+x_sim[1:])/2.0\n",
    "y_sim = (y_sim[:-1]+y_sim[1:])/2.0\n",
    "# \\\\\\\\\\\\\\\\\\\\\\\\\\Making it ready for the meshplot\\\\\\\\\\\\\\\\\\\\\\\\\\\n",
    "x_sim = np.tile(x_sim.reshape(-1, 1), (1, nbins))\n",
    "y_sim = np.tile(y_sim.reshape(1, -1), (nbins, 1))\n",
    "# \\\\\\\\\\\\\\\\\\\\\\\\\\\\\\\\\\\\\\\\\\\\\\\\\\\\\\\\\\\\\\\\\\\\\n",
    "if matlab_mode:\n",
    "    x_sim_m = matlab.double(x_sim.tolist())\n",
    "    y_sim_m = matlab.double(y_sim.tolist())\n",
    "    z_sim_m = matlab.double(z_sim.tolist())\n",
    "    h = eng.figure()\n",
    "    eng.mesh(x_sim_m, y_sim_m, z_sim_m)\n",
    "    eng.xlabel('delay')\n",
    "    eng.ylabel('LES delay')\n",
    "    eng.title('PDF (Simulated)')\n",
    "    fig_path = fig_directory + '/PDF(Simulated) %s_%s_%d (rho %3.2f).fig' % (ArrivalType, ServiceType, N, rho)\n",
    "    eng.savefig(fig_path, nargout=0)\n",
    "# \\\\\\\\\\\\\\\\\\\\\\\\\\\\\\\\\\\\\\\\\\\\\\SCATTER PLOT FOR PREDICTIOMNS////////////////////////\n",
    "test_pred = model.predict(test_data)\n",
    "min_range, max_range = min(min(test_labels), min(test_pred)), max(max(test_labels), max(test_pred))\n",
    "fig = plt.figure()\n",
    "ax = plt.subplot(111)\n",
    "plt.scatter(test_labels, test_pred)\n",
    "plt.xlabel('Ground-truth delays')\n",
    "plt.ylabel('Predictions')\n",
    "plt.axis('equal')\n",
    "plt.xlim([-1, 1.2 * max_range])\n",
    "plt.ylim([-1, 1.2 * max_range])\n",
    "plt.plot([min_range, max_range], [min_range, max_range], 'r')\n",
    "# mse = mean_squared_error(test_labels, predictions)\n",
    "# props = dict(boxstyle='round', facecolor='White', alpha=0.5)\n",
    "# textstr = 'MSE: %.3f' % mse\n",
    "# ax.text(0.05, 0.95, textstr, transform=ax.transAxes, fontsize=10,\n",
    "#         verticalalignment='top', bbox=props)\n",
    "fig_path = fig_directory + '/Scatterplot %s_%s_%d (rho %3.2f).pdf' % (ArrivalType, ServiceType, N, rho)\n",
    "fig.savefig(fig_path, bbox_inches='tight')\n",
    "# /////////////////////////////////PLOTTING A SAMPLE PATH/////////////////////////////////////////////\n",
    "samplePath_predictions = model.predict(samplePath_inp)\n",
    "\n",
    "fig = plt.figure()\n",
    "plt.plot(Ta_samp, samplePath[:, -1], c='k', lw=3., label='delay')\n",
    "plt.plot(Ta_samp, samplePath[:, wLES_ind], c='0.5', lw=3., ls='--', label='LES')\n",
    "plt.plot(Ta_samp, samplePath_predictions, c='0.4', marker='o', lw=3., label='Learned')\n",
    "plt.legend()\n",
    "plt.xlabel('Time (mins)')\n",
    "plt.ylabel('Delays')\n",
    "if plot_flag: plt.show()\n",
    "fig_path = fig_directory + '/delayVStime %s_%s_%d (rho %3.2f).pdf' % (ArrivalType, ServiceType, N, rho)\n",
    "fig.savefig(fig_path, bbox_inches='tight')\n",
    "# /////////////////////////////////Comparing the efficiency of LES and RNN model////////////////////////\n",
    "MSE_LES = mean_squared_error(test_labels, testdata[:, wLES_ind])\n",
    "MSE_RNN = mean_squared_error(test_labels, test_pred)\n",
    "print(\"MSE_LES: %7.4f, MSE_RNN: %7.4f\" %(MSE_LES, MSE_RNN))"
   ]
  },
  {
   "cell_type": "markdown",
   "metadata": {},
   "source": [
    "# Permutation importance "
   ]
  },
  {
   "cell_type": "code",
   "execution_count": 13,
   "metadata": {},
   "outputs": [
    {
     "name": "stdout",
     "output_type": "stream",
     "text": [
      "[0]\n"
     ]
    }
   ],
   "source": [
    "base_score, score_decreases = get_score_importances(score, train_data, train_labels, n_iter=10)\n",
    "feature_importances = np.mean(score_decreases, axis=0)\n",
    "# print(feature_importances)\n",
    "print(np.argsort(feature_importances))"
   ]
  },
  {
   "cell_type": "code",
   "execution_count": null,
   "metadata": {},
   "outputs": [],
   "source": []
  }
 ],
 "metadata": {
  "kernelspec": {
   "display_name": "Python 2",
   "language": "python",
   "name": "python2"
  },
  "language_info": {
   "codemirror_mode": {
    "name": "ipython",
    "version": 2
   },
   "file_extension": ".py",
   "mimetype": "text/x-python",
   "name": "python",
   "nbconvert_exporter": "python",
   "pygments_lexer": "ipython2",
   "version": "2.7.15"
  }
 },
 "nbformat": 4,
 "nbformat_minor": 2
}
