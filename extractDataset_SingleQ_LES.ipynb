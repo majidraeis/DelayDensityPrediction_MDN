{
 "cells": [
  {
   "cell_type": "code",
   "execution_count": 7,
   "metadata": {},
   "outputs": [],
   "source": [
    "import matplotlib\n",
    "import numpy as np\n",
    "import matplotlib.pyplot as plt\n",
    "import csv\n",
    "from tqdm import tqdm\n",
    "import os"
   ]
  },
  {
   "cell_type": "code",
   "execution_count": 8,
   "metadata": {},
   "outputs": [],
   "source": [
    "class Job:\n",
    "    def __init__(self, Ta, Ts, index, delayHistLength):\n",
    "        length = np.size(Ta)\n",
    "        Td = np.zeros(length)\n",
    "        Tw = np.zeros(length)\n",
    "        Ba = np.zeros(length)\n",
    "        MA = np.zeros(length)\n",
    "        if delayHistLength == 0:\n",
    "            self.dict = dict(zip(index, list(map(list, list(zip(Ta, Td, Ts, Tw, Ba, MA))))))\n",
    "        else:\n",
    "            delayHistory = np.zeros((np.shape(Ta)[0], delayHistLength))\n",
    "            delayHistory_Ta = np.zeros((np.shape(Ta)[0], delayHistLength))\n",
    "            self.dict = dict(zip(index, np.hstack((list(map(list, list(zip(Ta, Td, Ts, Tw, Ba, MA)))), delayHistory_Ta, delayHistory))))\n",
    "        # Dictionary values:  1-ArrivalTime 2-DepartureTime 3-ServiceTime 4-WaitingTime 5-BackloggUponArrival 6-ServiceTimeMovingAverage\n",
    "        # 7-...-ServiceTimes of (serviceHistLength) previous jobs [optional] 8-...-Delays of (delayHistLength) previous jobs [optional]\n",
    "\n",
    "\n",
    "def infQueueMultiServ_CHANjob(job, MAlength, N0, delayHistLength, QLnoise=\"False\",\n",
    "                              QLnoise_sigma=0):\n",
    "    jobMatrix = np.array(list(job.dict.values()))\n",
    "    jobIndex = np.array(list(job.dict.keys()))\n",
    "    length = len(jobIndex)\n",
    "    order = np.argsort(jobMatrix[:, 0])\n",
    "    Ta = jobMatrix[:, 0][order]\n",
    "    Ts = jobMatrix[:, 2][order]\n",
    "    jobIndexOrdered = jobIndex[order]\n",
    "    indexout = []\n",
    "    f = Ta[0:N0] + Ts[0:N0]\n",
    "    les_f = Ta[0:N0]\n",
    "    d = sorted(f)\n",
    "    e = sorted(les_f)\n",
    "    index = jobIndexOrdered[np.argsort(f)]\n",
    "    backlogD = [[0, 0, 0]]\n",
    "    backlogA = []\n",
    "    jobDepCum = []\n",
    "    jobEsCum = []\n",
    "\n",
    "    for i in tqdm(range(0, length)):\n",
    "        JobDep, d = d[0], np.delete(d, 0)\n",
    "        Es, e = e[0], np.delete(e, 0)\n",
    "        indexout = np.append(indexout, index[0])\n",
    "        index = np.delete(index, 0)\n",
    "\n",
    "        jobDepCum.append(JobDep)\n",
    "        jobEsCum.append(Es)\n",
    "\n",
    "        tempOcc = float(np.sum(Ta <= JobDep) - (i + 1))\n",
    "        backlogD.append([JobDep, max(tempOcc - N0, 0.0), tempOcc])\n",
    "        tempOcc = float(i + 1 - np.sum(jobDepCum <= Ta[i]))\n",
    "        backlogA.append([Ta[i], max(tempOcc - N0, 0.0), tempOcc])\n",
    "        job.dict[jobIndex[i]][4] = np.round(max(i - np.sum(jobDepCum <= Ta[i]), 0))\n",
    "        # num of customors in the system (including servers) right upon i'th arrival\n",
    "\n",
    "        if i <= length - N0 - 1:\n",
    "            F = max(Ta[N0 + i], JobDep) + Ts[N0 + i]\n",
    "            u = np.append(F, d)\n",
    "            u = np.maximum(u, F)\n",
    "            addedIndex = np.sum(u == F) - 1\n",
    "            d = np.minimum(np.append(d, np.inf), u)\n",
    "            index = np.append(index[:addedIndex], np.append(jobIndexOrdered[N0 + i], index[addedIndex:]))\n",
    "            # \\\\\\\\\\\\\\\\\\\\\\\\\\\\\\\\\\\\\\\\\\\\\\\n",
    "            e = np.append(e, max(Ta[N0 + i], JobDep))\n",
    "\n",
    "        job.dict[indexout[-1]][1] = JobDep\n",
    "        # job.dict[indexout[-1]][3]= max(0 , JobDep - job.dict[indexout[-1]][0]) # delay (Sojourn)\n",
    "        job.dict[indexout[-1]][3] = max(0.0, JobDep - job.dict[indexout[-1]][0] - job.dict[indexout[-1]][2])  # waiting\n",
    "\n",
    "    jobEsCum = np.array(jobEsCum)\n",
    "    # print(np.shape(jobEsCum))\n",
    "\n",
    "    for i in range(delayHistLength, length):\n",
    "        indexx = np.arange(1, i + 2)\n",
    "        temp = indexx[jobEsCum[:i + 1] < Ta[i]]\n",
    "        # print(temp)\n",
    "        if len(temp) > delayHistLength-1:  # Delay history\n",
    "            job.dict[jobIndex[i]][-delayHistLength:] = [job.dict[j][3] for j in\n",
    "                                                    temp[-delayHistLength:]]\n",
    "            job.dict[jobIndex[i]][-2*delayHistLength: -delayHistLength] = [job.dict[j][0] for j in\n",
    "                                                    temp[-delayHistLength:]]\n",
    "\n",
    "    backlogA = np.concatenate((backlogA, backlogD))\n",
    "    backlogA = np.array(sorted(backlogA, key=lambda x: x[0]))\n",
    "    job.b = backlogA\n",
    "    job.index = indexout.astype(int)\n"
   ]
  },
  {
   "cell_type": "markdown",
   "metadata": {},
   "source": [
    "# Defining different arrival and service processes"
   ]
  },
  {
   "cell_type": "code",
   "execution_count": 9,
   "metadata": {},
   "outputs": [],
   "source": [
    "def MarkovOnOff(length, Alpha, Beta, Lambda):  # Alpha = off-> on | Beta = on -> off\n",
    "    s = 1\n",
    "    interArr = np.zeros(length)\n",
    "    i = 0\n",
    "    while i < length:\n",
    "\n",
    "        state_stay = np.random.exponential(1 / Beta)\n",
    "        elapsed_time = 0\n",
    "        while s and i < length:\n",
    "            temp = np.random.exponential(1/Lambda)\n",
    "            elapsed_time = elapsed_time + temp\n",
    "            if elapsed_time < state_stay:\n",
    "                interArr[i] = interArr[i] + temp\n",
    "                i += 1\n",
    "            else:\n",
    "                interArr[i] = interArr[i] + state_stay - (elapsed_time - temp)\n",
    "                s = 0\n",
    "        if not s and i < length:\n",
    "            state_stay = np.random.exponential(1 / Alpha)\n",
    "            interArr[i] = interArr[i] + state_stay\n",
    "            s = 1\n",
    "    Ta = np.cumsum(interArr)\n",
    "    return Ta\n",
    "\n",
    "\n",
    "def DetOnOff(length, Ton, Toff, Ta_ON):\n",
    "    Num_ON = int(Ton/Ta_ON)\n",
    "    Num_OFF = int(Toff/Ta_ON)\n",
    "    inter_arr = []\n",
    "    i = 0\n",
    "    while i < length-Num_ON:\n",
    "            inter_arr = np.append(inter_arr, Ta_ON * np.ones(Num_ON-1))\n",
    "            # inter_arr = np.append(inter_arr, np.random.exponential(Ta_ON, Num_ON-1))\n",
    "            inter_arr = np.append(inter_arr, Ta_ON * Num_OFF)\n",
    "            i += Num_ON\n",
    "    inter_arr = np.append(inter_arr, Ta_ON * np.ones(length-i))\n",
    "    Ta = np.cumsum(inter_arr)\n",
    "    return Ta\n",
    "\n",
    "def DetVarRate(length, t_on1, t_on2, t_a1, t_a2):\n",
    "    Num_ON1 = int(t_on1/t_a1)\n",
    "    Num_ON2 = int(t_on2/t_a2)\n",
    "    inter_arr = []\n",
    "    i = 0\n",
    "    while i < length-Num_ON1-Num_ON2:\n",
    "            inter_arr = np.append(inter_arr, t_a1 * np.ones(Num_ON1))\n",
    "            inter_arr = np.append(inter_arr, t_a2 * np.ones(Num_ON2))\n",
    "            i += Num_ON1+Num_ON2\n",
    "    if length-i > Num_ON1:\n",
    "        inter_arr = np.append(inter_arr, t_a1 * np.ones(Num_ON1))\n",
    "        inter_arr = np.append(inter_arr, t_a2 * np.ones(length-i-Num_ON1))\n",
    "    else:\n",
    "        inter_arr = np.append(inter_arr, t_a1 * np.ones(length - i))\n",
    "    Ta = np.cumsum(inter_arr)\n",
    "    return Ta\n",
    "\n",
    "\n",
    "def NonHomPoisson(length, Lambda, lambda_u):\n",
    "    Ta = []\n",
    "    t = 0\n",
    "    l = 0\n",
    "    while l < length:\n",
    "        t = t + np.random.exponential(1/lambda_u)\n",
    "        if np.random.uniform(0, 1) < Lambda(t)/lambda_u:\n",
    "            Ta.append(t)\n",
    "            l += 1\n",
    "    return Ta"
   ]
  },
  {
   "cell_type": "markdown",
   "metadata": {},
   "source": [
    "# Initialization"
   ]
  },
  {
   "cell_type": "code",
   "execution_count": 10,
   "metadata": {},
   "outputs": [],
   "source": [
    "training = 0 # set to one(zero) for generating training(test) data\n",
    "ArrivalType = \"NonHomPoisson\"  # Passenger or 'M' or 'H2'\n",
    "ServiceType = \"logNorm\"  # M or logNorm\n",
    "rho = 0.95\n",
    "MAlength, N, TotHistLength = 1, 10, 30\n",
    "mean_Ts = 1.0\n",
    "mean_Ta = mean_Ts / (N * rho)\n",
    "day = 24*12\n",
    "# day = 4\n",
    "# time_step = 24*60.0/day # Time unit (mins)\n",
    "if training:\n",
    "    # duration = 80 * day\n",
    "    duration = 20 * day\n",
    "else:\n",
    "    duration = 5 * day\n",
    "lengthTa = int(duration / mean_Ta)\n",
    "train_length = int(20*day / mean_Ta)  # int(0.5 * lengthTa)\n",
    "samplePathLen = int(2*day / mean_Ta)\n",
    "# train_length = lengthTa # int(0.5 * lengthTa)\n",
    "# train_length = 10*day\n",
    "# test_length = int(day / mean_Ta)\n",
    "test_length = int(5 * day / mean_Ta)  # int(0.5 * lengthTa)\n",
    "# test_length = lengthTa\n",
    "# test_length = 40\n",
    "plot_flag = 1\n",
    "save_flag = 1\n",
    "c_a = 2.0\n",
    "QLnoise, QLnoise_sigma = \"False\", 5\n",
    "\n",
    "if TotHistLength == 1:\n",
    "    directory = 'Queueing_models/%s_%s' % (ArrivalType, ServiceType)\n",
    "else:\n",
    "    directory = 'Queueing_models_RNN_MDN/%s_%s' % (ArrivalType, ServiceType)\n",
    "\n",
    "if not os.path.exists(directory):\n",
    "    os.makedirs(directory)\n",
    "if not os.path.exists(directory+'/figs'):\n",
    "    os.makedirs(directory+'/figs')\n",
    "if not os.path.exists(directory + '/model'):\n",
    "    os.makedirs(directory + '/model')\n",
    "if not os.path.exists(directory + '/dataset'):\n",
    "    os.makedirs(directory + '/dataset')"
   ]
  },
  {
   "cell_type": "markdown",
   "metadata": {},
   "source": [
    "# Generate arrival and service processes"
   ]
  },
  {
   "cell_type": "code",
   "execution_count": 11,
   "metadata": {},
   "outputs": [],
   "source": [
    "# ////////////////arrival  times\n",
    "Ts = []\n",
    "if ArrivalType == \"M\":\n",
    "    interArr = np.random.exponential(mean_Ta, lengthTa)\n",
    "    Ta = np.cumsum(interArr)\n",
    "\n",
    "elif ArrivalType == \"H2\":\n",
    "    c_a = 2.0 #SCV\n",
    "    p1 = 0.5*(1+((c_a**2-1)/(c_a**2+1))**0.5)\n",
    "    p2 = 1-p1\n",
    "    mu1 = 2*p1/mean_Ta\n",
    "    mu2 = 2*p2/mean_Ta\n",
    "    coeff1 = (np.random.uniform(0, 1, lengthTa) < p1)\n",
    "    coeff2 = ~ coeff1\n",
    "    interArr1 = np.random.exponential(1/mu1, lengthTa)\n",
    "    interArr2 = np.random.exponential(1 / mu2, lengthTa)\n",
    "    interArr = coeff1*interArr1 + coeff2*interArr2\n",
    "    Ta = np.cumsum(interArr)\n",
    "\n",
    "elif ArrivalType == \"M_ONOFF\":\n",
    "    Alpha = 0.01\n",
    "    Beta = 0.1\n",
    "    Lambda = N*rho*(Alpha + Beta)/(Alpha * mean_Ts)\n",
    "    Ta = MarkovOnOff(lengthTa, Alpha, Beta, Lambda)\n",
    "elif ArrivalType == \"DetOnOff\":\n",
    "    T_period = day #/ 24.0  # i.e. E[s] = 5min\n",
    "    ON_ratio = 0.75\n",
    "    T_on = ON_ratio * T_period\n",
    "    T_off = T_period - T_on\n",
    "    # Num_ON = int(T_on / Ta_ON)\n",
    "    # Num_OFF = int(T_off / Ta_ON)\n",
    "    Ta_on = mean_Ta * ON_ratio # (mean_Ts/(N*rho)) * ON_ratio\n",
    "    Ta = DetOnOff(lengthTa, T_on, T_off, Ta_on)\n",
    "elif ArrivalType == \"DetVarRate\":\n",
    "    t_on1, t_on2 = 10.0, 10.0\n",
    "    t_a1, t_a2 = .1, 1\n",
    "    Ta = DetVarRate(lengthTa, t_on1, t_on2, t_a1, t_a2)\n",
    "elif ArrivalType == 'NonHomPoisson':\n",
    "    alpha = 0.5 #relative amplitude\n",
    "    lambda_bar = 1 / mean_Ta\n",
    "    lambda_u = lambda_bar * (1 + alpha)\n",
    "    Gamma = day#cycle life\n",
    "    Lambda = lambda t: lambda_bar + lambda_bar * alpha * np.sin(2*np.pi*t/Gamma)\n",
    "    Ta = NonHomPoisson(lengthTa, Lambda, lambda_u)\n",
    "\n",
    "\n",
    "if ServiceType == \"M\": #exponential\n",
    "    Ts = np.random.exponential(mean_Ts, lengthTa)\n",
    "\n",
    "elif ServiceType == \"logNorm\":  # for lognormal service\n",
    "    c_s = 1.0 #SCV\n",
    "    sigma = np.log(1+c_s**2)**0.5\n",
    "    mu = np.log(mean_Ts) - (sigma**2)/2.0\n",
    "    Ts = np.exp(np.random.normal(mu, sigma, lengthTa))"
   ]
  },
  {
   "cell_type": "markdown",
   "metadata": {},
   "source": [
    "# Generating dataset"
   ]
  },
  {
   "cell_type": "code",
   "execution_count": 12,
   "metadata": {},
   "outputs": [
    {
     "name": "stderr",
     "output_type": "stream",
     "text": [
      "100%|██████████| 13680/13680 [00:11<00:00, 623.39it/s]\n"
     ]
    }
   ],
   "source": [
    "    job = Job(Ta, Ts, np.arange(1, lengthTa + 1), TotHistLength)\n",
    "    infQueueMultiServ_CHANjob(job, MAlength, N, TotHistLength, QLnoise, QLnoise_sigma)\n",
    "    jobMatrix = np.array(list(job.dict.values()))\n",
    "    jobIndex = np.array(list(job.dict.keys()))\n",
    "    order = np.argsort(jobMatrix[:, 0])\n",
    "    Ta = np.sort(jobMatrix[:, 0])\n",
    "    Td = np.sort(jobMatrix[:, 1])"
   ]
  },
  {
   "cell_type": "markdown",
   "metadata": {},
   "source": [
    "# Plotting figures"
   ]
  },
  {
   "cell_type": "code",
   "execution_count": 13,
   "metadata": {},
   "outputs": [
    {
     "data": {
      "image/png": "[encoded data removed]",
      "text/plain": [
       "<Figure size 432x288 with 1 Axes>"
      ]
     },
     "metadata": {
      "needs_background": "light"
     },
     "output_type": "display_data"
    },
    {
     "data": {
      "image/png": "[encoded data removed]",
      "text/plain": [
       "<Figure size 432x288 with 1 Axes>"
      ]
     },
     "metadata": {
      "needs_background": "light"
     },
     "output_type": "display_data"
    }
   ],
   "source": [
    "fig = plt.figure()\n",
    "ax1 = plt.subplot(211)\n",
    "plt.step(*zip(*job.b[-samplePathLen:, :2]), where='post')\n",
    "plt.ylabel('Backlog')\n",
    "plt.xlabel('Time')\n",
    "plt.title('Number of servers ($N_{%s}$)= %s' % (1, N))\n",
    "plt.show()\n",
    "\n",
    "plt.subplot(212, sharex=ax1)\n",
    "X = np.append(np.append(0, Ta), Td[-1])\n",
    "Y = np.append(range(0, lengthTa + 1), lengthTa)\n",
    "line_up, = plt.step(X[-samplePathLen:], Y[-samplePathLen:], 'g', where='post',\n",
    "                    label='Cumalative arrival')\n",
    "X = np.append(0, Td)\n",
    "Y = range(0, lengthTa + 1)\n",
    "line_down, = plt.step(X[-samplePathLen:], Y[-samplePathLen:], 'r', where='post', label='Cumulative departure')\n",
    "plt.legend(handles=[line_up, line_down])\n",
    "plt.ylabel('Number of passengers')\n",
    "plt.xlabel('Time (E[s])')\n",
    "plt.show()\n",
    "if training:\n",
    "    fig_path = directory + '/figs/Backlog_CumulativeArrDep %s_%s_%d (rho %3.2f).pdf' % (ArrivalType, ServiceType, N, rho)\n",
    "    fig.savefig(fig_path, bbox_inches='tight')\n"
   ]
  },
  {
   "cell_type": "markdown",
   "metadata": {},
   "source": [
    "# Preparing dataset for the learning problem"
   ]
  },
  {
   "cell_type": "code",
   "execution_count": 14,
   "metadata": {},
   "outputs": [],
   "source": [
    "    # ///////////////////Data set for delay estimation//////////////\n",
    "    begin = 0\n",
    "    for k in np.arange(lengthTa):\n",
    "        if jobMatrix[k, -1] != 0:\n",
    "            begin = k\n",
    "            break\n",
    "\n",
    "    if TotHistLength > 0:\n",
    "        delayHistory = jobMatrix[begin:, -TotHistLength:]\n",
    "        delayHistory_Ta = jobMatrix[begin:, -2 * TotHistLength: -TotHistLength]\n",
    "    occupancy = jobMatrix[:, 4].astype(int)\n",
    "    occ = occupancy - N\n",
    "    backlog = occ.clip(min=0)\n",
    "    freeServers = -occ.clip(max=0)\n",
    "    arrival = jobMatrix[:, 0]  # for plotting delay vs arrival times\n",
    "    # departure= jobMatrix[:,1] #for plotting\n",
    "    delay = jobMatrix[:, 3]\n",
    "    MA = jobMatrix[:, 5]\n",
    "    # Data Structure: 1-ServiceHistory(optional) 2-backlogUponArrival 3-#ofFreeServersUponArrival 4-ServiceTimeMovingAverage 5-SojournTime\n",
    "\n",
    "    if training:\n",
    "        # \\\\\\\\\\\\\\\\\\\\\\\\\\\\\\\\\\\\\\train data \\\\\\\\\\\\\\\\\\\\\\\\\\\\\\\n",
    "        data = np.hstack((freeServers[begin:].reshape(-1, 1), MA[begin:].reshape(-1, 1)))  ## without queuelength information\n",
    "        if TotHistLength > 0:\n",
    "            data = np.hstack((data, delayHistory_Ta, delayHistory))\n",
    "\n",
    "        data = np.hstack((arrival[begin:].reshape(-1, 1), data, delay[begin:].reshape(-1, 1)))\n",
    "    else:\n",
    "        # \\\\\\\\\\\\\\\\\\\\\\\\\\\\\\\\test data\\\\\\\\\\\\\\\\\\\\\\\\\\\\\\\n",
    "        data = np.array(list(zip(backlog[begin:], freeServers[begin:], MA[begin:])))\n",
    "        if TotHistLength > 0:\n",
    "            data = np.hstack((data, delayHistory_Ta, delayHistory))\n",
    "        data = np.hstack((arrival[begin:].reshape(-1, 1), data, delay[begin:].reshape(-1, 1)))\n",
    "        # 1)arrival 2)backlog 3)#ofFreeServers 4)serviceTimeMovingAverage 5)service hist 6)delay hist 7)label\n",
    "        \n",
    "    # ////////////////////////// eliminate all data with zero delay ////////////////////////////////////\n",
    "    # ///////////(conditional delay given that the customer has to wait)////////////////////////////////\n",
    "    data_all = data\n",
    "    data = data_all[data_all[:, -1] > (10**-4)]\n",
    "    # ///////////////////////////////Making Dataset more uniform//////////////////////\n",
    "\n",
    "    sampled_data = np.zeros((1, data.shape[1]))\n",
    "    nbins = 20\n",
    "    if training:\n",
    "        num_per_bin = int(train_length / nbins)\n",
    "    # else:\n",
    "    #     num_per_bin = int(test_length / nbins)\n",
    "        bins = np.linspace(0, max(data[:, -1]), nbins+1)\n",
    "        for i in range(1, nbins+1):\n",
    "            temp = np.arange(data.shape[0])[np.digitize(data[:, -1], bins) == i]\n",
    "            if len(temp) > 0.7 * num_per_bin:\n",
    "                choose = np.random.choice(temp, min(num_per_bin, len(temp)), replace=False)\n",
    "                sampled_data = np.append(sampled_data, data[choose, :], axis=0)\n",
    "            else:\n",
    "                break\n",
    "        data = sampled_data[1:, :]\n",
    "    # /////////////////////////////WRITING DATA////////////////////////////\n",
    "    if save_flag:\n",
    "        if training:\n",
    "            with open(directory+'/dataset/DelayPredTrainingdata.csv', 'w') as csvFile:\n",
    "                writer = csv.writer(csvFile)\n",
    "                writer.writerows(data)\n",
    "            csvFile.close()\n",
    "        else:\n",
    "            with open(directory+'/dataset/DelayPredTestdata.csv', 'w') as csvFile:\n",
    "                writer = csv.writer(csvFile)\n",
    "                writer.writerows(data)\n",
    "            csvFile.close()\n",
    "            with open(directory+'/dataset/samplePath.csv', 'w') as csvFile:\n",
    "                writer = csv.writer(csvFile)\n",
    "                writer.writerows(data_all[-samplePathLen:, :])\n",
    "            csvFile.close()"
   ]
  },
  {
   "cell_type": "markdown",
   "metadata": {},
   "source": [
    "# Plotting histogram and current deay vs LES delay"
   ]
  },
  {
   "cell_type": "code",
   "execution_count": 15,
   "metadata": {},
   "outputs": [
    {
     "data": {
      "image/png": "[encoded data removed]",
      "text/plain": [
       "<Figure size 432x288 with 1 Axes>"
      ]
     },
     "metadata": {
      "needs_background": "light"
     },
     "output_type": "display_data"
    },
    {
     "data": {
      "image/png": "[encoded data removed]",
      "text/plain": [
       "<Figure size 432x288 with 1 Axes>"
      ]
     },
     "metadata": {
      "needs_background": "light"
     },
     "output_type": "display_data"
    },
    {
     "data": {
      "image/png": "[encoded data removed]",
      "text/plain": [
       "<Figure size 432x288 with 1 Axes>"
      ]
     },
     "metadata": {
      "needs_background": "light"
     },
     "output_type": "display_data"
    },
    {
     "name": "stdout",
     "output_type": "stream",
     "text": [
      "Average queue length in steady state: 158.021, Theoretical QL Mean: 15.686\n",
      "Average # of customers in system (steady state): 167.503\n"
     ]
    }
   ],
   "source": [
    "fig = plt.figure()\n",
    "plt.hist(data[:, -1], nbins, label=['GroundTruth'])\n",
    "plt.xlabel('Delay')\n",
    "plt.legend(loc='upper right')\n",
    "if training:\n",
    "    plt.title('Training')\n",
    "else:\n",
    "    plt.title('Test')\n",
    "plt.show()\n",
    "if training:\n",
    "    fig_path = directory + '/figs/TrainDataHistogram %s_%s_%d (rho %3.2f).pdf' % (ArrivalType, ServiceType, N, rho)\n",
    "    fig.savefig(fig_path, bbox_inches='tight')\n",
    "\n",
    "fig = plt.figure()\n",
    "plt.scatter(data[:, -2], data[:, -1])\n",
    "plt.xlabel('LES Delay')\n",
    "plt.ylabel('Current Delay')\n",
    "plt.show()\n",
    "if training:\n",
    "    fig_path = directory + '/figs/delayVSles %s_%s_%d (rho %3.2f).pdf' % (ArrivalType, ServiceType, N, rho)\n",
    "    fig.savefig(fig_path, bbox_inches='tight')\n",
    "\n",
    "fig = plt.figure()\n",
    "plt.plot(data_all[-samplePathLen:, 0], data_all[-samplePathLen:, -1], c='k', lw=3., label='delay')\n",
    "plt.plot(data_all[-samplePathLen:, 0], data_all[-samplePathLen:, -2], c='0.5', lw=3., ls='--', label='LES')\n",
    "plt.legend()\n",
    "plt.xlabel('Time (E[s])')\n",
    "plt.ylabel('Delays')\n",
    "plt.show()\n",
    "if training:\n",
    "    fig_path = directory + '/figs/delay_lesVStime %s_%s_%d (rho %3.2f).pdf' % (ArrivalType, ServiceType, N, rho)\n",
    "    fig.savefig(fig_path, bbox_inches='tight')\n",
    "\n",
    "n_begin = 0\n",
    "(n_end,) = np.where(job.b[:, 0] == Ta[-1])\n",
    "n_end = int(n_end)\n",
    "QL_sim = np.sum(np.diff(job.b[n_begin:n_end+1, 0])*job.b[n_begin:n_end, 1])/(job.b[n_end, 0]-job.b[n_begin, 0])\n",
    "# QL_sim = np.sum(np.diff(job.b[n_begin:, 0])*job.b[n_begin:-1, 1])/(job.b[-1, 0]-job.b[n_begin, 0])\n",
    "m = [np.math.factorial(n) for n in range(N)]\n",
    "P0 = 1/(np.sum(((N*rho)**np.arange(N))/m) + ((N*rho)**N)/(np.math.factorial(N)*(1-rho)))\n",
    "QL_th = (P0*rho*(N*rho)**N)/(np.math.factorial(N)*(1-rho)**2)\n",
    "print('Average queue length in steady state: %5.3f, Theoretical QL Mean: %5.3f' %(QL_sim, QL_th))\n",
    "B_bar = np.sum(np.diff(job.b[n_begin:n_end, 0])*job.b[n_begin:n_end-1, 2])/(job.b[n_end, 0]-job.b[n_begin, 0])\n",
    "print('Average # of customers in system (steady state): %5.3f' %B_bar)\n",
    "w_mean = np.mean(delay)"
   ]
  },
  {
   "cell_type": "code",
   "execution_count": null,
   "metadata": {},
   "outputs": [],
   "source": []
  }
 ],
 "metadata": {
  "kernelspec": {
   "display_name": "Python 2",
   "language": "python",
   "name": "python2"
  },
  "language_info": {
   "codemirror_mode": {
    "name": "ipython",
    "version": 2
   },
   "file_extension": ".py",
   "mimetype": "text/x-python",
   "name": "python",
   "nbconvert_exporter": "python",
   "pygments_lexer": "ipython2",
   "version": "2.7.15"
  }
 },
 "nbformat": 4,
 "nbformat_minor": 2
}
